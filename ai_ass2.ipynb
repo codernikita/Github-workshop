{
  "nbformat": 4,
  "nbformat_minor": 0,
  "metadata": {
    "colab": {
      "provenance": [],
      "authorship_tag": "ABX9TyNtGUcNaU7MwmMhA6/txhxd",
      "include_colab_link": true
    },
    "kernelspec": {
      "name": "python3",
      "display_name": "Python 3"
    },
    "language_info": {
      "name": "python"
    }
  },
  "cells": [
    {
      "cell_type": "markdown",
      "metadata": {
        "id": "view-in-github",
        "colab_type": "text"
      },
      "source": [
        "<a href=\"https://colab.research.google.com/github/codernikita/Github-workshop/blob/main/ai_ass2.ipynb\" target=\"_parent\"><img src=\"https://colab.research.google.com/assets/colab-badge.svg\" alt=\"Open In Colab\"/></a>"
      ]
    },
    {
      "cell_type": "code",
      "execution_count": null,
      "metadata": {
        "id": "86OxHcLPfU02",
        "colab": {
          "base_uri": "https://localhost:8080/"
        },
        "outputId": "143af852-3d5d-4ee6-a78d-2e46ac95f6ef"
      },
      "outputs": [
        {
          "output_type": "stream",
          "name": "stdout",
          "text": [
            "jug1 is filled\n",
            "jug1 is poured into jug2 1 and 3\n",
            "jug2 is empty\n",
            "jug1 is poured into jug2 0 and 1\n"
          ]
        }
      ],
      "source": [
        "class jugs:\n",
        "  def __init__(self,jug1_capacity,jug2_capacity,goal):\n",
        "    self.jug1_capacity=jug1_capacity\n",
        "    self.jug2_capacity=jug2_capacity\n",
        "    self.jug1=0\n",
        "    self.jug2=0\n",
        "    self.goal=goal\n",
        "  def fill_jug1(self):\n",
        "    self.jug1=self.jug1_capacity\n",
        "    print(\"jug1 is filled\")\n",
        "  def fill_jug2(self):\n",
        "    self.jug2=self.jug2_capacity\n",
        "    print(\"jug2 is filled\")\n",
        "\n",
        "  def empty_jug1(self):\n",
        "    self.jug1=0\n",
        "    print(\"jug1 is empty\")\n",
        "\n",
        "  def empty_jug2(self):\n",
        "    self.jug2=0\n",
        "    print(\"jug2 is empty\")\n",
        "\n",
        "  def check_goal(self):\n",
        "    if self.jug1==self.goal[0] and self.jug2==self.goal[1]:\n",
        "      return True\n",
        "    else:\n",
        "      return False\n",
        "\n",
        "\n",
        "  def pour_jug1_to_jug2(self):\n",
        "    transfer_amount=min(self.jug1,self.jug2_capacity-self.jug2)\n",
        "    self.jug1-=transfer_amount\n",
        "    self.jug2+=transfer_amount\n",
        "    print(f\"jug1 is poured into jug2 {self.jug1} and {self.jug2}\")\n",
        "\n",
        "  def pour_jug2_to_jug1(self):\n",
        "    transfer_amount=min(self.jug2,self.jug1_capacity-self.jug1)\n",
        "    self.jug2-=transfer_amount\n",
        "    self.jug1+=transfer_amount\n",
        "    print(f\"jug2 is poured into jug1 {self.jug1} and {self.jug2}\")\n",
        "\n",
        "\n",
        "jugs_instance=jugs(4,3,[0,2])\n",
        "\n",
        "jugs_instance.fill_jug1()\n",
        "jugs_instance.pour_jug1_to_jug2()\n",
        "jugs_instance.empty_jug2()\n",
        "jugs_instance.pour_jug1_to_jug2()\n",
        "\n"
      ]
    },
    {
      "cell_type": "code",
      "source": [
        "class 8puzzle:\n",
        "  def__init__(self,current_state,goal_state):\n",
        "    self.current_state=current_state\n",
        "    self.goal_state=goal_state\n",
        "  def check_goal(self):\n",
        "    if self.current_state==self.goal_state:\n",
        "      return True\n",
        "    else:\n",
        "      return False\n",
        "\n",
        "mylist-[]\n",
        "goallist=[]\n",
        "openstate-[]\n",
        "closedstate=[]\n",
        "p=8puzzle(mylist,goallist)\n",
        "p.check_goal()\n",
        "\n"
      ],
      "metadata": {
        "id": "u93HrAL8mn5N"
      },
      "execution_count": null,
      "outputs": []
    },
    {
      "cell_type": "code",
      "source": [
        "class EightPuzzle:\n",
        "    def __init__(self, current_state, goal_state):\n",
        "        self.current_state = current_state  # Now a single list\n",
        "        self.goal_state = goal_state      # Now a single list\n",
        "\n",
        "    def check(self):\n",
        "        \"\"\"Checks if the current state matches the goal state.\"\"\"\n",
        "        return self.current_state == self.goal_state\n",
        "\n",
        "    def find_blank(self):\n",
        "        \"\"\"Finds the index of the blank tile (0).\"\"\"\n",
        "        try:\n",
        "            return self.current_state.index(0)\n",
        "        except ValueError:\n",
        "            return -1  # If blank not found (shouldn't happen in a valid puzzle)\n",
        "\n",
        "    def move_up(self):\n",
        "        \"\"\"Moves the blank tile up if possible.\"\"\"\n",
        "        blank_index = self.find_blank()\n",
        "        if blank_index >= 3:  # Check if blank is not in the top row\n",
        "            self.current_state[blank_index], self.current_state[blank_index - 3] = \\\n",
        "                self.current_state[blank_index - 3], self.current_state[blank_index]\n",
        "\n",
        "    def move_down(self):\n",
        "        \"\"\"Moves the blank tile down if possible.\"\"\"\n",
        "        blank_index = self.find_blank()\n",
        "        if blank_index < 6:  # Check if blank is not in the bottom row\n",
        "            self.current_state[blank_index], self.current_state[blank_index + 3] = \\\n",
        "                self.current_state[blank_index + 3], self.current_state[blank_index]\n",
        "\n",
        "    def move_left(self):\n",
        "        \"\"\"Moves the blank tile left if possible.\"\"\"\n",
        "        blank_index = self.find_blank()\n",
        "        if blank_index % 3 != 0:  # Check if blank is not in the leftmost column\n",
        "            self.current_state[blank_index], self.current_state[blank_index - 1] = \\\n",
        "                self.current_state[blank_index - 1], self.current_state[blank_index]\n",
        "\n",
        "    def move_right(self):\n",
        "        \"\"\"Moves the blank tile right if possible.\"\"\"\n",
        "        blank_index = self.find_blank()\n",
        "        if blank_index % 3 != 2:  # Check if blank is not in the rightmost column\n",
        "            self.current_state[blank_index], self.current_state[blank_index + 1] = \\\n",
        "                self.current_state[blank_index + 1], self.current_state[blank_index]\n",
        "\n",
        "    def print_board(self):\n",
        "        \"\"\"Prints the current board state.\"\"\"\n",
        "        for i in range(0, 9, 3):\n",
        "            print(self.current_state[i:i + 3])\n",
        "        print(\"------------------------\")  # Print in 3x3 format\n",
        "\n",
        "# Example usage:\n",
        "initial_state = [1, 2, 3, 4, 0, 5, 7, 8, 6]\n",
        "goal_state = [1, 2, 3, 4, 5, 6, 7, 8, 0]\n",
        "\n",
        "puzzle = EightPuzzle(initial_state, goal_state)\n",
        "\n",
        "print(\"Initial State:\")\n",
        "puzzle.print_board()\n",
        "\n",
        "puzzle.move_up()\n",
        "print(\"\\nAfter move_up:\")\n",
        "puzzle.print_board()"
      ],
      "metadata": {
        "colab": {
          "base_uri": "https://localhost:8080/"
        },
        "id": "k7IOimcQKyC_",
        "outputId": "1752144f-f45a-4374-eb37-aa334a587e0a"
      },
      "execution_count": null,
      "outputs": [
        {
          "output_type": "stream",
          "name": "stdout",
          "text": [
            "Initial State:\n",
            "[1, 2, 3]\n",
            "[4, 0, 5]\n",
            "[7, 8, 6]\n",
            "------------------------\n",
            "\n",
            "After move_up:\n",
            "[1, 0, 3]\n",
            "[4, 2, 5]\n",
            "[7, 8, 6]\n",
            "------------------------\n"
          ]
        }
      ]
    }
  ]
}